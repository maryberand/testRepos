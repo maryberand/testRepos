{
  "metadata": {
    "kernelspec": {
      "name": "python",
      "display_name": "Python (Pyodide)",
      "language": "python"
    },
    "language_info": {
      "codemirror_mode": {
        "name": "python",
        "version": 3
      },
      "file_extension": ".py",
      "mimetype": "text/x-python",
      "name": "python",
      "nbconvert_exporter": "python",
      "pygments_lexer": "ipython3",
      "version": "3.8"
    }
  },
  "nbformat_minor": 4,
  "nbformat": 4,
  "cells": [
    {
      "cell_type": "markdown",
      "source": "\n# Datascience Tools and Ecosystem\n",
      "metadata": {}
    },
    {
      "cell_type": "markdown",
      "source": "En este cuaderno , se resumen las herramientas y ecosistemas de Ciencia de datos.\n",
      "metadata": {}
    },
    {
      "cell_type": "markdown",
      "source": "**Objetivos:**",
      "metadata": {}
    },
    {
      "cell_type": "markdown",
      "source": "* Listar lenguaje de Ciencia de Datos.\n* Listar bibliotecas de Ciencia de Datos.\n* Listar las herramientas de código abierto del entorno de desarrollo en Ciencia de Datos.",
      "metadata": {}
    },
    {
      "cell_type": "markdown",
      "source": "Algunos de los lenguajes populares que utilizan los científicos de datos son:\n",
      "metadata": {}
    },
    {
      "cell_type": "markdown",
      "source": "1. Python\n2. R\n3. SQL\n4. LAN\n5. Java",
      "metadata": {}
    },
    {
      "cell_type": "markdown",
      "source": "Algunas de las  bibliotecas comúnmente utilizadas por los científicos de datos incluyen:",
      "metadata": {}
    },
    {
      "cell_type": "markdown",
      "source": "1. Pandas\n2. Matplotlib\n3. Keras\n4. TensorFlow\n5. ApacheSpark",
      "metadata": {}
    },
    {
      "cell_type": "markdown",
      "source": "| Herramientas de Ciencia de Datos |\n| -------------------------------- |\n|MySQL|\n|PostgreSQL|\n|ApacheCouchDB|\n|JupyterNotebook|",
      "metadata": {}
    },
    {
      "cell_type": "markdown",
      "source": "### A continuación, se pressentan algunos ejemplos de evaluación de expresiones aritméticas en Python",
      "metadata": {}
    },
    {
      "cell_type": "code",
      "source": "\"Ésta es una expresión aritmética simple para multiplicar y luego sumar enteros\"\n(3*4)+5",
      "metadata": {
        "trusted": true
      },
      "outputs": [
        {
          "execution_count": 1,
          "output_type": "execute_result",
          "data": {
            "text/plain": "17"
          },
          "metadata": {}
        }
      ],
      "execution_count": 1
    },
    {
      "cell_type": "code",
      "source": "# Esto convertirá 200 minutos a horas dividiendo por 60\n200/60 ",
      "metadata": {
        "trusted": true,
        "scrolled": true
      },
      "outputs": [
        {
          "execution_count": 3,
          "output_type": "execute_result",
          "data": {
            "text/plain": "3.3333333333333335"
          },
          "metadata": {}
        }
      ],
      "execution_count": 3
    },
    {
      "cell_type": "markdown",
      "source": "## Autor\n\"María Carmen Bermudo Andrade\"",
      "metadata": {}
    },
    {
      "cell_type": "code",
      "source": "",
      "metadata": {
        "trusted": true
      },
      "outputs": [],
      "execution_count": null
    }
  ]
}